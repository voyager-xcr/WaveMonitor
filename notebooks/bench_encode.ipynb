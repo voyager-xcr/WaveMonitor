{
 "cells": [
  {
   "cell_type": "code",
   "execution_count": 1,
   "id": "3350909b",
   "metadata": {},
   "outputs": [
    {
     "name": "stdout",
     "output_type": "stream",
     "text": [
      "8,000,008\n",
      "8,000,056\n"
     ]
    },
    {
     "data": {
      "text/plain": [
       "dtype('float64')"
      ]
     },
     "execution_count": 1,
     "metadata": {},
     "output_type": "execute_result"
    }
   ],
   "source": [
    "import numpy as np\n",
    "from wave_monitor import proto\n",
    "\n",
    "t = np.linspace(0, 1, 1_000_001)\n",
    "y = np.sin(2 * np.pi * 440 * t)\n",
    "print(f\"{y.nbytes:,}\")\n",
    "print(f\"{len(proto.encode(y)):,}\")\n",
    "y.dtype\n"
   ]
  },
  {
   "cell_type": "code",
   "execution_count": 2,
   "id": "81e8c7dc",
   "metadata": {},
   "outputs": [
    {
     "name": "stdout",
     "output_type": "stream",
     "text": [
      "float32, 4,000,004 4,000,052\n",
      "float16, 2,000,002 2,000,050\n",
      "int16, 2,000,002 2,000,050\n"
     ]
    }
   ],
   "source": [
    "y32 = y.astype(np.float32)\n",
    "y16 = y.astype(np.float16)\n",
    "\n",
    "def to_int16(y):\n",
    "    y = np.clip(y, -1, 1)\n",
    "    return (y * np.iinfo(np.int16).max).astype(np.int16)\n",
    "\n",
    "def from_int16(y):\n",
    "    return y.astype(np.float32) / np.iinfo(np.int16).max\n",
    "\n",
    "yint = to_int16(y)\n",
    "print(f\"float32, {y32.nbytes:,} {len(proto.encode(y32)):,}\")\n",
    "print(f\"float16, {y16.nbytes:,} {len(proto.encode(y16)):,}\")\n",
    "print(f\"int16, {yint.nbytes:,} {len(proto.encode(yint)):,}\")"
   ]
  },
  {
   "cell_type": "code",
   "execution_count": 3,
   "id": "17feb059",
   "metadata": {},
   "outputs": [
    {
     "name": "stdout",
     "output_type": "stream",
     "text": [
      "Original float64\n",
      "10 ns ± 1.79 ns per loop (mean ± std. dev. of 5 runs, 100 loops each)\n",
      "3.5 ms ± 345 μs per loop (mean ± std. dev. of 5 runs, 100 loops each)\n",
      "float32\n",
      "1 ms ± 44.7 μs per loop (mean ± std. dev. of 5 runs, 100 loops each)\n",
      "3.01 ms ± 60.6 μs per loop (mean ± std. dev. of 5 runs, 100 loops each)\n",
      "float16\n",
      "2.15 ms ± 35.4 μs per loop (mean ± std. dev. of 5 runs, 100 loops each)\n",
      "2.94 ms ± 31.2 μs per loop (mean ± std. dev. of 5 runs, 100 loops each)\n",
      "int16\n",
      "5.18 ms ± 113 μs per loop (mean ± std. dev. of 5 runs, 100 loops each)\n",
      "5.91 ms ± 64.3 μs per loop (mean ± std. dev. of 5 runs, 100 loops each)\n"
     ]
    }
   ],
   "source": [
    "print(\"Original float64\")\n",
    "%timeit -r 5 -n 100 y\n",
    "%timeit -r 5 -n 100 proto.encode(y)\n",
    "\n",
    "print(\"float32\")\n",
    "%timeit -r 5 -n 100 y.astype(np.float32)\n",
    "%timeit -r 5 -n 100 proto.encode(y.astype(np.float32))\n",
    "\n",
    "print(\"float16\")\n",
    "%timeit -r 5 -n 100 y.astype(np.float16)\n",
    "%timeit -r 5 -n 100 proto.encode(y.astype(np.float16))\n",
    "\n",
    "print(\"int16\")\n",
    "%timeit -r 5 -n 100 to_int16(y)\n",
    "%timeit -r 5 -n 100 proto.encode(to_int16(y))"
   ]
  },
  {
   "cell_type": "code",
   "execution_count": 8,
   "id": "e5141ef4",
   "metadata": {},
   "outputs": [
    {
     "data": {
      "text/plain": [
       "(np.float64(2.9798668754743574e-08),\n",
       " np.float64(0.00024413489863339688),\n",
       " np.float64(3.052832017702567e-05))"
      ]
     },
     "execution_count": 8,
     "metadata": {},
     "output_type": "execute_result"
    }
   ],
   "source": [
    "np.abs(y32 - y).max(), np.abs(y16 - y).max(), np.abs(from_int16(yint) - y).max()"
   ]
  },
  {
   "cell_type": "code",
   "execution_count": null,
   "id": "53d778b0",
   "metadata": {},
   "outputs": [
    {
     "data": {
      "text/plain": [
       "(array([0., 0.]),\n",
       " array([0., 0.], dtype=float32),\n",
       " array([0., 0.], dtype=float16),\n",
       " array([0., 0.], dtype=float32))"
      ]
     },
     "execution_count": 9,
     "metadata": {},
     "output_type": "execute_result"
    }
   ],
   "source": [
    "a = np.zeros(2)\n",
    "a, a.astype(np.float32), a.astype(np.float16), from_int16(to_int16(a))"
   ]
  },
  {
   "cell_type": "code",
   "execution_count": 11,
   "id": "f2eceb7d",
   "metadata": {},
   "outputs": [
    {
     "data": {
      "text/plain": [
       "(array([0.5, 0.5]),\n",
       " array([0.5, 0.5], dtype=float32),\n",
       " array([0.5, 0.5], dtype=float16),\n",
       " array([0.49998474, 0.49998474], dtype=float32))"
      ]
     },
     "execution_count": 11,
     "metadata": {},
     "output_type": "execute_result"
    }
   ],
   "source": [
    "a = np.ones(2) * 0.5\n",
    "a, a.astype(np.float32), a.astype(np.float16), from_int16(to_int16(a))"
   ]
  }
 ],
 "metadata": {
  "kernelspec": {
   "display_name": "wavemonitor",
   "language": "python",
   "name": "python3"
  },
  "language_info": {
   "codemirror_mode": {
    "name": "ipython",
    "version": 3
   },
   "file_extension": ".py",
   "mimetype": "text/x-python",
   "name": "python",
   "nbconvert_exporter": "python",
   "pygments_lexer": "ipython3",
   "version": "3.13.5"
  }
 },
 "nbformat": 4,
 "nbformat_minor": 5
}
