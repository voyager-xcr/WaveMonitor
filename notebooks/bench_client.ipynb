{
 "cells": [
  {
   "cell_type": "code",
   "execution_count": 1,
   "id": "b142815e",
   "metadata": {},
   "outputs": [
    {
     "name": "stderr",
     "output_type": "stream",
     "text": [
      "DEBUG msg to send: {'_type': 'get_wfm_interval'}\n",
      "DEBUG Wrote 24 bytes, 0 bytes remaining.\n",
      "DEBUG query received: {'_type': 'wfm_interval', 'interval': 0}\n",
      "DEBUG Adding waveform 'wave_1'\n",
      "DEBUG msg to send: {'_type': 'add_wfm', 'name': 'wave_1', 't': array([0.00000e+00, 1.00000e-06, 2.00000e-06, ..., 9.99998e-01,\n",
      "       9.99999e-01, 1.00000e+00], shape=(1000001,)), 'ys': [array([1., 1., 1., ..., 1., 1., 1.], shape=(1000001,)), array([ 0.00000000e+00,  3.14159265e-05,  6.28318530e-05, ...,\n",
      "       -6.28318530e-05, -3.14159265e-05, -1.22464680e-15],\n",
      "      shape=(1000001,))]}\n",
      "DEBUG Wrote 24000201 bytes, 0 bytes remaining.\n"
     ]
    }
   ],
   "source": [
    "import logging\n",
    "import numpy as np\n",
    "\n",
    "from wave_monitor import WaveMonitor\n",
    "h = logging.StreamHandler()\n",
    "h.setLevel(logging.DEBUG)\n",
    "h.setFormatter(logging.Formatter(\"%(levelname)s %(message)s\"))\n",
    "WaveMonitor.logger.addHandler(h)\n",
    "\n",
    "monitor = WaveMonitor()\n",
    "\n",
    "t = np.linspace(0, 1, 1_000_001)  # 1m pts ~= 1ms for 1GSa/s.\n",
    "f = 5\n",
    "i_wave = np.cos(2 * np.pi * f * t)\n",
    "q_wave = np.sin(2 * np.pi * f * t)\n",
    "\n",
    "WaveMonitor.logger.setLevel(logging.DEBUG)\n",
    "monitor.add_wfm(\"wave_1\", t, [i_wave, q_wave])\n",
    "WaveMonitor.logger.setLevel(logging.INFO)"
   ]
  },
  {
   "cell_type": "code",
   "execution_count": 2,
   "id": "a96a59fd",
   "metadata": {},
   "outputs": [
    {
     "name": "stdout",
     "output_type": "stream",
     "text": [
      "32.6 ms ± 2.74 ms per loop (mean ± std. dev. of 7 runs, 10 loops each)\n"
     ]
    }
   ],
   "source": [
    "%timeit monitor.add_wfm(\"wave_1\", t, [i_wave, q_wave])"
   ]
  },
  {
   "cell_type": "code",
   "execution_count": 3,
   "id": "3ada7f06",
   "metadata": {},
   "outputs": [
    {
     "name": "stdout",
     "output_type": "stream",
     "text": [
      "65 ns ± 0.68 ns per loop (mean ± std. dev. of 7 runs, 1,000,000 loops each)\n"
     ]
    }
   ],
   "source": [
    "%timeit monitor.get_wfm_interval()"
   ]
  },
  {
   "cell_type": "code",
   "execution_count": 4,
   "id": "8ad5ab88",
   "metadata": {},
   "outputs": [
    {
     "name": "stderr",
     "output_type": "stream",
     "text": [
      "C:\\Users\\qiujv\\dev\\WaveMonitor\\src\\wave_monitor\\client.py:203: UserWarning: Monitor is already running, not starting a new one.\n",
      "  warnings.warn(\"Monitor is already running, not starting a new one.\")\n"
     ]
    },
    {
     "name": "stdout",
     "output_type": "stream",
     "text": [
      "35.4 ms ± 2.59 ms per loop (mean ± std. dev. of 7 runs, 10 loops each)\n"
     ]
    }
   ],
   "source": [
    "mon2 = WaveMonitor()\n",
    "mon2.get_wfm_interval = lambda: 0  # patch to avoid the delay.\n",
    "%timeit mon2.add_wfm(\"wave_2\", t, [i_wave, q_wave])"
   ]
  },
  {
   "cell_type": "code",
   "execution_count": 8,
   "id": "97f2a475",
   "metadata": {},
   "outputs": [
    {
     "name": "stdout",
     "output_type": "stream",
     "text": [
      "14.1 ms ± 488 μs per loop (mean ± std. dev. of 7 runs, 100 loops each)\n"
     ]
    }
   ],
   "source": [
    "from PySide6.QtNetwork import QLocalSocket\n",
    "class FakeSocket:\n",
    "    def write(self, data: bytes) -> int:\n",
    "        return len(data)\n",
    "    \n",
    "    def waitForBytesWritten(self) -> bool:\n",
    "        return True\n",
    "    \n",
    "    def state(self):\n",
    "        return QLocalSocket.ConnectedState\n",
    "    \n",
    "mon2.sock = FakeSocket()  # patch to avoid the delay.\n",
    "%timeit mon2.add_wfm(\"wave_2\", t, [i_wave, q_wave])"
   ]
  },
  {
   "cell_type": "code",
   "execution_count": 9,
   "id": "4947be6a",
   "metadata": {},
   "outputs": [
    {
     "name": "stdout",
     "output_type": "stream",
     "text": [
      "33.2 ms ± 1.97 ms per loop (mean ± std. dev. of 7 runs, 10 loops each)\n"
     ]
    }
   ],
   "source": [
    "%timeit monitor.add_wfm(\"wave_1\", t, [i_wave, q_wave])"
   ]
  },
  {
   "cell_type": "code",
   "execution_count": null,
   "id": "2dfc2140",
   "metadata": {},
   "outputs": [
    {
     "name": "stderr",
     "output_type": "stream",
     "text": [
      "C:\\Users\\qiujv\\dev\\WaveMonitor\\src\\wave_monitor\\client.py:82: UserWarning: Not connected to server.\n",
      "  self.write(dict(_type=\"add_wfm\", name=name, t=t, ys=ys))\n",
      "C:\\Users\\qiujv\\dev\\WaveMonitor\\src\\wave_monitor\\client.py:89: UserWarning: Not connected to server.\n",
      "  msg = self.query(dict(_type=\"get_wfm_interval\"), timeout_ms=200)\n"
     ]
    },
    {
     "name": "stdout",
     "output_type": "stream",
     "text": [
      "12.9 μs ± 140 ns per loop (mean ± std. dev. of 7 runs, 100,000 loops each)\n"
     ]
    }
   ],
   "source": [
    "# close the window now.\n",
    "%timeit monitor.add_wfm(\"wave_1\", t, [i_wave, q_wave])"
   ]
  },
  {
   "cell_type": "code",
   "execution_count": 11,
   "id": "713e5b74",
   "metadata": {},
   "outputs": [
    {
     "data": {
      "text/plain": [
       "False"
      ]
     },
     "execution_count": 11,
     "metadata": {},
     "output_type": "execute_result"
    }
   ],
   "source": [
    "monitor.refresh_connect()"
   ]
  },
  {
   "cell_type": "code",
   "execution_count": 12,
   "id": "42ea2289",
   "metadata": {},
   "outputs": [
    {
     "data": {
      "text/plain": [
       "<LocalSocketState.UnconnectedState: 0>"
      ]
     },
     "execution_count": 12,
     "metadata": {},
     "output_type": "execute_result"
    }
   ],
   "source": [
    "monitor.sock.state()"
   ]
  },
  {
   "cell_type": "code",
   "execution_count": 13,
   "id": "9b17fe07",
   "metadata": {},
   "outputs": [
    {
     "name": "stdout",
     "output_type": "stream",
     "text": [
      "Payload size: 24.00 MB\n",
      "16.9 ms ± 1.39 ms per loop (mean ± std. dev. of 7 runs, 100 loops each)\n"
     ]
    }
   ],
   "source": [
    "from wave_monitor import proto\n",
    "msg = dict(_type=\"add_wfm\", name=\"wave_1\", t=t, ys=[i_wave, q_wave])\n",
    "payload = proto.encode(msg)\n",
    "print(f\"Payload size: {len(payload)/1e6:.2f} MB\")\n",
    "\n",
    "%timeit proto.encode(msg)"
   ]
  }
 ],
 "metadata": {
  "kernelspec": {
   "display_name": "wavemonitor",
   "language": "python",
   "name": "python3"
  },
  "language_info": {
   "codemirror_mode": {
    "name": "ipython",
    "version": 3
   },
   "file_extension": ".py",
   "mimetype": "text/x-python",
   "name": "python",
   "nbconvert_exporter": "python",
   "pygments_lexer": "ipython3",
   "version": "3.13.5"
  }
 },
 "nbformat": 4,
 "nbformat_minor": 5
}
