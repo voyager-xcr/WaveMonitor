{
 "cells": [
  {
   "cell_type": "code",
   "execution_count": 1,
   "id": "b142815e",
   "metadata": {},
   "outputs": [
    {
     "name": "stderr",
     "output_type": "stream",
     "text": [
      "DEBUG query received: {'_type': 'wfm_interval', 'interval': 0.2}\n",
      "DEBUG Adding waveform 'wave_1'\n"
     ]
    }
   ],
   "source": [
    "import logging\n",
    "import numpy as np\n",
    "\n",
    "from wave_monitor import WaveMonitor\n",
    "h = logging.StreamHandler()\n",
    "h.setLevel(logging.DEBUG)\n",
    "h.setFormatter(logging.Formatter(\"%(levelname)s %(message)s\"))\n",
    "WaveMonitor.logger.addHandler(h)\n",
    "\n",
    "monitor = WaveMonitor()\n",
    "\n",
    "t = np.linspace(0, 1, 1_000_001)  # 1m pts ~= 1ms for 1GSa/s.\n",
    "f = 5\n",
    "i_wave = np.cos(2 * np.pi * f * t)\n",
    "q_wave = np.sin(2 * np.pi * f * t)\n",
    "\n",
    "WaveMonitor.logger.setLevel(logging.DEBUG)\n",
    "monitor.add_wfm(\"wave_1\", t, [i_wave, q_wave])\n",
    "WaveMonitor.logger.setLevel(logging.INFO)"
   ]
  },
  {
   "cell_type": "code",
   "execution_count": 2,
   "id": "a96a59fd",
   "metadata": {},
   "outputs": [
    {
     "name": "stdout",
     "output_type": "stream",
     "text": [
      "The slowest run took 966.04 times longer than the fastest. This could mean that an intermediate result is being cached.\n",
      "168 μs ± 334 μs per loop (mean ± std. dev. of 5 runs, 3 loops each)\n"
     ]
    }
   ],
   "source": [
    "%timeit -n 3 -r 5 monitor.add_wfm(\"wave_1\", t, [i_wave, q_wave], dtype=None)"
   ]
  },
  {
   "cell_type": "code",
   "execution_count": null,
   "id": "649eca2a",
   "metadata": {},
   "outputs": [
    {
     "name": "stdout",
     "output_type": "stream",
     "text": [
      "The slowest run took 600.27 times longer than the fastest. This could mean that an intermediate result is being cached.\n",
      "105 μs ± 208 μs per loop (mean ± std. dev. of 5 runs, 3 loops each)\n"
     ]
    }
   ],
   "source": [
    "%timeit -n 3 -r 5 monitor.add_wfm(\"wave_1\", t, [i_wave, q_wave])"
   ]
  },
  {
   "cell_type": "code",
   "execution_count": 4,
   "id": "3ada7f06",
   "metadata": {},
   "outputs": [
    {
     "name": "stdout",
     "output_type": "stream",
     "text": [
      "The slowest run took 7323.28 times longer than the fastest. This could mean that an intermediate result is being cached.\n",
      "147 μs ± 293 μs per loop (mean ± std. dev. of 5 runs, 3 loops each)\n"
     ]
    }
   ],
   "source": [
    "%timeit -n 3 -r 5 monitor.get_wfm_interval()"
   ]
  },
  {
   "cell_type": "code",
   "execution_count": 5,
   "id": "2dfc2140",
   "metadata": {},
   "outputs": [
    {
     "name": "stderr",
     "output_type": "stream",
     "text": [
      "IO worker op failed: query\n",
      "Traceback (most recent call last):\n",
      "  File \"C:\\Users\\qiujv\\dev\\WaveMonitor\\src\\wave_monitor\\client.py\", line 267, in run\n",
      "    self._handle_query(\n",
      "    ~~~~~~~~~~~~~~~~~~^\n",
      "        payload[\"msg\"], payload[\"timeout_ms\"], payload[\"future\"]\n",
      "        ^^^^^^^^^^^^^^^^^^^^^^^^^^^^^^^^^^^^^^^^^^^^^^^^^^^^^^^^\n",
      "    )\n",
      "    ^\n",
      "  File \"C:\\Users\\qiujv\\dev\\WaveMonitor\\src\\wave_monitor\\client.py\", line 376, in _handle_query\n",
      "    self._write_payload(payload)\n",
      "    ~~~~~~~~~~~~~~~~~~~^^^^^^^^^\n",
      "  File \"C:\\Users\\qiujv\\dev\\WaveMonitor\\src\\wave_monitor\\client.py\", line 337, in _write_payload\n",
      "    raise RuntimeError(\"Failed to write to socket.\")\n",
      "RuntimeError: Failed to write to socket.\n"
     ]
    },
    {
     "name": "stdout",
     "output_type": "stream",
     "text": [
      "The slowest run took 47.84 times longer than the fastest. This could mean that an intermediate result is being cached.\n",
      "563 μs ± 962 μs per loop (mean ± std. dev. of 5 runs, 3 loops each)\n"
     ]
    },
    {
     "name": "stderr",
     "output_type": "stream",
     "text": [
      "C:\\Users\\qiujv\\dev\\WaveMonitor\\src\\wave_monitor\\client.py:265: UserWarning: Not connected to server.\n",
      "  self._handle_write(payload[\"msg\"])  # fire-and-forget\n",
      "C:\\Users\\qiujv\\dev\\WaveMonitor\\src\\wave_monitor\\client.py:369: UserWarning: Not connected to server.\n",
      "  warnings.warn(\"Not connected to server.\")\n"
     ]
    }
   ],
   "source": [
    "# close the window now.\n",
    "%timeit -n 3 -r 5 monitor.add_wfm(\"wave_1\", t, [i_wave, q_wave])"
   ]
  },
  {
   "cell_type": "code",
   "execution_count": 7,
   "id": "713e5b74",
   "metadata": {},
   "outputs": [
    {
     "data": {
      "text/plain": [
       "False"
      ]
     },
     "execution_count": 7,
     "metadata": {},
     "output_type": "execute_result"
    }
   ],
   "source": [
    "monitor.connect()"
   ]
  }
 ],
 "metadata": {
  "kernelspec": {
   "display_name": "wavemonitor",
   "language": "python",
   "name": "python3"
  },
  "language_info": {
   "codemirror_mode": {
    "name": "ipython",
    "version": 3
   },
   "file_extension": ".py",
   "mimetype": "text/x-python",
   "name": "python",
   "nbconvert_exporter": "python",
   "pygments_lexer": "ipython3",
   "version": "3.13.5"
  }
 },
 "nbformat": 4,
 "nbformat_minor": 5
}
