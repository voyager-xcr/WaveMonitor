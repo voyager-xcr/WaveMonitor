{
 "cells": [
  {
   "cell_type": "code",
   "execution_count": 1,
   "id": "b142815e",
   "metadata": {},
   "outputs": [
    {
     "name": "stderr",
     "output_type": "stream",
     "text": [
      "DEBUG query received: {'_type': 'wfm_interval', 'interval': 0}\n",
      "DEBUG Adding waveform 'wave_1'\n"
     ]
    }
   ],
   "source": [
    "import logging\n",
    "import numpy as np\n",
    "\n",
    "from wave_monitor import WaveMonitor\n",
    "h = logging.StreamHandler()\n",
    "h.setLevel(logging.DEBUG)\n",
    "h.setFormatter(logging.Formatter(\"%(levelname)s %(message)s\"))\n",
    "WaveMonitor.logger.addHandler(h)\n",
    "\n",
    "monitor = WaveMonitor()\n",
    "\n",
    "t = np.linspace(0, 1, 1_000_001)  # 1m pts ~= 1ms for 1GSa/s.\n",
    "f = 5\n",
    "i_wave = np.cos(2 * np.pi * f * t)\n",
    "q_wave = np.sin(2 * np.pi * f * t)\n",
    "\n",
    "WaveMonitor.logger.setLevel(logging.DEBUG)\n",
    "monitor.add_wfm(\"wave_1\", t, [i_wave, q_wave])\n",
    "WaveMonitor.logger.setLevel(logging.INFO)"
   ]
  },
  {
   "cell_type": "code",
   "execution_count": 2,
   "id": "a96a59fd",
   "metadata": {},
   "outputs": [
    {
     "name": "stdout",
     "output_type": "stream",
     "text": [
      "The slowest run took 6.36 times longer than the fastest. This could mean that an intermediate result is being cached.\n",
      "6.39 μs ± 6.03 μs per loop (mean ± std. dev. of 5 runs, 3 loops each)\n"
     ]
    }
   ],
   "source": [
    "%timeit -n 3 -r 5 monitor.add_wfm(\"wave_1\", t, [i_wave, q_wave], dtype=None)"
   ]
  },
  {
   "cell_type": "code",
   "execution_count": 3,
   "id": "649eca2a",
   "metadata": {},
   "outputs": [
    {
     "name": "stdout",
     "output_type": "stream",
     "text": [
      "7.46 μs ± 4.73 μs per loop (mean ± std. dev. of 5 runs, 3 loops each)\n"
     ]
    }
   ],
   "source": [
    "%timeit -n 3 -r 5 monitor.add_wfm(\"wave_1\", t, [i_wave, q_wave], dtype=np.float32)"
   ]
  },
  {
   "cell_type": "code",
   "execution_count": 4,
   "id": "3ada7f06",
   "metadata": {},
   "outputs": [
    {
     "name": "stdout",
     "output_type": "stream",
     "text": [
      "The slowest run took 14.00 times longer than the fastest. This could mean that an intermediate result is being cached.\n",
      "507 ns ± 681 ns per loop (mean ± std. dev. of 5 runs, 3 loops each)\n"
     ]
    }
   ],
   "source": [
    "%timeit -n 3 -r 5 monitor.get_wfm_interval()"
   ]
  },
  {
   "cell_type": "code",
   "execution_count": 5,
   "id": "8ad5ab88",
   "metadata": {},
   "outputs": [
    {
     "name": "stdout",
     "output_type": "stream",
     "text": [
      "The slowest run took 5.11 times longer than the fastest. This could mean that an intermediate result is being cached.\n",
      "8.65 μs ± 6.88 μs per loop (mean ± std. dev. of 5 runs, 3 loops each)\n"
     ]
    },
    {
     "name": "stderr",
     "output_type": "stream",
     "text": [
      "C:\\Users\\qiujv\\Downloads\\WaveMonitor\\src\\wave_monitor\\client.py:409: UserWarning: Monitor is already running, not starting a new one.\n",
      "  warnings.warn(\"Monitor is already running, not starting a new one.\")\n"
     ]
    }
   ],
   "source": [
    "mon2 = WaveMonitor()\n",
    "mon2.get_wfm_interval = lambda: 0  # patch to avoid the delay.\n",
    "%timeit -n 3 -r 5 mon2.add_wfm(\"wave_2\", t, [i_wave, q_wave])"
   ]
  },
  {
   "cell_type": "code",
   "execution_count": 6,
   "id": "97f2a475",
   "metadata": {},
   "outputs": [
    {
     "name": "stdout",
     "output_type": "stream",
     "text": [
      "The slowest run took 4.05 times longer than the fastest. This could mean that an intermediate result is being cached.\n",
      "7.31 μs ± 5.25 μs per loop (mean ± std. dev. of 5 runs, 3 loops each)\n"
     ]
    },
    {
     "name": "stderr",
     "output_type": "stream",
     "text": [
      "IO worker op failed: write\n",
      "Traceback (most recent call last):\n",
      "  File \"C:\\Users\\qiujv\\Downloads\\WaveMonitor\\src\\wave_monitor\\client.py\", line 83, in run\n",
      "    self._handle_write(payload[\"msg\"])  # fire-and-forget\n",
      "    ~~~~~~~~~~~~~~~~~~^^^^^^^^^^^^^^^^\n",
      "  File \"C:\\Users\\qiujv\\Downloads\\WaveMonitor\\src\\wave_monitor\\client.py\", line 183, in _handle_write\n",
      "    self._write_payload(payload)\n",
      "    ~~~~~~~~~~~~~~~~~~~^^^^^^^^^\n",
      "  File \"C:\\Users\\qiujv\\Downloads\\WaveMonitor\\src\\wave_monitor\\client.py\", line 154, in _write_payload\n",
      "    raise RuntimeError(\"Failed to write to socket.\")\n",
      "RuntimeError: Failed to write to socket.\n"
     ]
    },
    {
     "name": "stderr",
     "output_type": "stream",
     "text": [
      "IO worker op failed: write\n",
      "Traceback (most recent call last):\n",
      "  File \"C:\\Users\\qiujv\\Downloads\\WaveMonitor\\src\\wave_monitor\\client.py\", line 83, in run\n",
      "    self._handle_write(payload[\"msg\"])  # fire-and-forget\n",
      "    ~~~~~~~~~~~~~~~~~~^^^^^^^^^^^^^^^^\n",
      "  File \"C:\\Users\\qiujv\\Downloads\\WaveMonitor\\src\\wave_monitor\\client.py\", line 183, in _handle_write\n",
      "    self._write_payload(payload)\n",
      "    ~~~~~~~~~~~~~~~~~~~^^^^^^^^^\n",
      "  File \"C:\\Users\\qiujv\\Downloads\\WaveMonitor\\src\\wave_monitor\\client.py\", line 154, in _write_payload\n",
      "    raise RuntimeError(\"Failed to write to socket.\")\n",
      "RuntimeError: Failed to write to socket.\n"
     ]
    }
   ],
   "source": [
    "from PySide6.QtNetwork import QLocalSocket\n",
    "class FakeSocket:\n",
    "    def write(self, data: bytes) -> int:\n",
    "        return len(data)\n",
    "    \n",
    "    def waitForBytesWritten(self) -> bool:\n",
    "        return True\n",
    "    \n",
    "    def state(self):\n",
    "        return QLocalSocket.ConnectedState\n",
    "    \n",
    "mon2.sock = FakeSocket()  # patch to avoid the delay.\n",
    "%timeit -n 3 -r 5 mon2.add_wfm(\"wave_2\", t, [i_wave, q_wave])"
   ]
  },
  {
   "cell_type": "code",
   "execution_count": 7,
   "id": "4947be6a",
   "metadata": {},
   "outputs": [
    {
     "name": "stdout",
     "output_type": "stream",
     "text": [
      "The slowest run took 8.10 times longer than the fastest. This could mean that an intermediate result is being cached.\n",
      "10.3 μs ± 11.6 μs per loop (mean ± std. dev. of 5 runs, 3 loops each)\n"
     ]
    },
    {
     "name": "stderr",
     "output_type": "stream",
     "text": [
      "IO worker op failed: write\n",
      "Traceback (most recent call last):\n",
      "  File \"C:\\Users\\qiujv\\Downloads\\WaveMonitor\\src\\wave_monitor\\client.py\", line 83, in run\n",
      "    self._handle_write(payload[\"msg\"])  # fire-and-forget\n",
      "    ~~~~~~~~~~~~~~~~~~^^^^^^^^^^^^^^^^\n",
      "  File \"C:\\Users\\qiujv\\Downloads\\WaveMonitor\\src\\wave_monitor\\client.py\", line 183, in _handle_write\n",
      "    self._write_payload(payload)\n",
      "    ~~~~~~~~~~~~~~~~~~~^^^^^^^^^\n",
      "  File \"C:\\Users\\qiujv\\Downloads\\WaveMonitor\\src\\wave_monitor\\client.py\", line 154, in _write_payload\n",
      "    raise RuntimeError(\"Failed to write to socket.\")\n",
      "RuntimeError: Failed to write to socket.\n",
      "IO worker op failed: write\n",
      "Traceback (most recent call last):\n",
      "  File \"C:\\Users\\qiujv\\Downloads\\WaveMonitor\\src\\wave_monitor\\client.py\", line 83, in run\n",
      "    self._handle_write(payload[\"msg\"])  # fire-and-forget\n",
      "    ~~~~~~~~~~~~~~~~~~^^^^^^^^^^^^^^^^\n",
      "  File \"C:\\Users\\qiujv\\Downloads\\WaveMonitor\\src\\wave_monitor\\client.py\", line 183, in _handle_write\n",
      "    self._write_payload(payload)\n",
      "    ~~~~~~~~~~~~~~~~~~~^^^^^^^^^\n",
      "  File \"C:\\Users\\qiujv\\Downloads\\WaveMonitor\\src\\wave_monitor\\client.py\", line 154, in _write_payload\n",
      "    raise RuntimeError(\"Failed to write to socket.\")\n",
      "RuntimeError: Failed to write to socket.\n"
     ]
    },
    {
     "name": "stderr",
     "output_type": "stream",
     "text": [
      "IO worker op failed: write\n",
      "Traceback (most recent call last):\n",
      "  File \"C:\\Users\\qiujv\\Downloads\\WaveMonitor\\src\\wave_monitor\\client.py\", line 83, in run\n",
      "    self._handle_write(payload[\"msg\"])  # fire-and-forget\n",
      "    ~~~~~~~~~~~~~~~~~~^^^^^^^^^^^^^^^^\n",
      "  File \"C:\\Users\\qiujv\\Downloads\\WaveMonitor\\src\\wave_monitor\\client.py\", line 183, in _handle_write\n",
      "    self._write_payload(payload)\n",
      "    ~~~~~~~~~~~~~~~~~~~^^^^^^^^^\n",
      "  File \"C:\\Users\\qiujv\\Downloads\\WaveMonitor\\src\\wave_monitor\\client.py\", line 154, in _write_payload\n",
      "    raise RuntimeError(\"Failed to write to socket.\")\n",
      "RuntimeError: Failed to write to socket.\n",
      "IO worker op failed: write\n",
      "Traceback (most recent call last):\n",
      "  File \"C:\\Users\\qiujv\\Downloads\\WaveMonitor\\src\\wave_monitor\\client.py\", line 83, in run\n",
      "    self._handle_write(payload[\"msg\"])  # fire-and-forget\n",
      "    ~~~~~~~~~~~~~~~~~~^^^^^^^^^^^^^^^^\n",
      "  File \"C:\\Users\\qiujv\\Downloads\\WaveMonitor\\src\\wave_monitor\\client.py\", line 183, in _handle_write\n",
      "    self._write_payload(payload)\n",
      "    ~~~~~~~~~~~~~~~~~~~^^^^^^^^^\n",
      "  File \"C:\\Users\\qiujv\\Downloads\\WaveMonitor\\src\\wave_monitor\\client.py\", line 154, in _write_payload\n",
      "    raise RuntimeError(\"Failed to write to socket.\")\n",
      "RuntimeError: Failed to write to socket.\n",
      "IO worker op failed: write\n",
      "Traceback (most recent call last):\n",
      "  File \"C:\\Users\\qiujv\\Downloads\\WaveMonitor\\src\\wave_monitor\\client.py\", line 83, in run\n",
      "    self._handle_write(payload[\"msg\"])  # fire-and-forget\n",
      "    ~~~~~~~~~~~~~~~~~~^^^^^^^^^^^^^^^^\n",
      "  File \"C:\\Users\\qiujv\\Downloads\\WaveMonitor\\src\\wave_monitor\\client.py\", line 183, in _handle_write\n",
      "    self._write_payload(payload)\n",
      "    ~~~~~~~~~~~~~~~~~~~^^^^^^^^^\n",
      "  File \"C:\\Users\\qiujv\\Downloads\\WaveMonitor\\src\\wave_monitor\\client.py\", line 154, in _write_payload\n",
      "    raise RuntimeError(\"Failed to write to socket.\")\n",
      "RuntimeError: Failed to write to socket.\n",
      "IO worker op failed: write\n",
      "Traceback (most recent call last):\n",
      "  File \"C:\\Users\\qiujv\\Downloads\\WaveMonitor\\src\\wave_monitor\\client.py\", line 83, in run\n",
      "    self._handle_write(payload[\"msg\"])  # fire-and-forget\n",
      "    ~~~~~~~~~~~~~~~~~~^^^^^^^^^^^^^^^^\n",
      "  File \"C:\\Users\\qiujv\\Downloads\\WaveMonitor\\src\\wave_monitor\\client.py\", line 183, in _handle_write\n",
      "    self._write_payload(payload)\n",
      "    ~~~~~~~~~~~~~~~~~~~^^^^^^^^^\n",
      "  File \"C:\\Users\\qiujv\\Downloads\\WaveMonitor\\src\\wave_monitor\\client.py\", line 154, in _write_payload\n",
      "    raise RuntimeError(\"Failed to write to socket.\")\n",
      "RuntimeError: Failed to write to socket.\n",
      "IO worker op failed: write\n",
      "Traceback (most recent call last):\n",
      "  File \"C:\\Users\\qiujv\\Downloads\\WaveMonitor\\src\\wave_monitor\\client.py\", line 83, in run\n",
      "    self._handle_write(payload[\"msg\"])  # fire-and-forget\n",
      "    ~~~~~~~~~~~~~~~~~~^^^^^^^^^^^^^^^^\n",
      "  File \"C:\\Users\\qiujv\\Downloads\\WaveMonitor\\src\\wave_monitor\\client.py\", line 183, in _handle_write\n",
      "    self._write_payload(payload)\n",
      "    ~~~~~~~~~~~~~~~~~~~^^^^^^^^^\n",
      "  File \"C:\\Users\\qiujv\\Downloads\\WaveMonitor\\src\\wave_monitor\\client.py\", line 154, in _write_payload\n",
      "    raise RuntimeError(\"Failed to write to socket.\")\n",
      "RuntimeError: Failed to write to socket.\n",
      "IO worker op failed: write\n",
      "Traceback (most recent call last):\n",
      "  File \"C:\\Users\\qiujv\\Downloads\\WaveMonitor\\src\\wave_monitor\\client.py\", line 83, in run\n",
      "    self._handle_write(payload[\"msg\"])  # fire-and-forget\n",
      "    ~~~~~~~~~~~~~~~~~~^^^^^^^^^^^^^^^^\n",
      "  File \"C:\\Users\\qiujv\\Downloads\\WaveMonitor\\src\\wave_monitor\\client.py\", line 183, in _handle_write\n",
      "    self._write_payload(payload)\n",
      "    ~~~~~~~~~~~~~~~~~~~^^^^^^^^^\n",
      "  File \"C:\\Users\\qiujv\\Downloads\\WaveMonitor\\src\\wave_monitor\\client.py\", line 154, in _write_payload\n",
      "    raise RuntimeError(\"Failed to write to socket.\")\n",
      "RuntimeError: Failed to write to socket.\n",
      "IO worker op failed: write\n",
      "Traceback (most recent call last):\n",
      "  File \"C:\\Users\\qiujv\\Downloads\\WaveMonitor\\src\\wave_monitor\\client.py\", line 83, in run\n",
      "    self._handle_write(payload[\"msg\"])  # fire-and-forget\n",
      "    ~~~~~~~~~~~~~~~~~~^^^^^^^^^^^^^^^^\n",
      "  File \"C:\\Users\\qiujv\\Downloads\\WaveMonitor\\src\\wave_monitor\\client.py\", line 183, in _handle_write\n",
      "    self._write_payload(payload)\n",
      "    ~~~~~~~~~~~~~~~~~~~^^^^^^^^^\n",
      "  File \"C:\\Users\\qiujv\\Downloads\\WaveMonitor\\src\\wave_monitor\\client.py\", line 154, in _write_payload\n",
      "    raise RuntimeError(\"Failed to write to socket.\")\n",
      "RuntimeError: Failed to write to socket.\n",
      "IO worker op failed: write\n",
      "Traceback (most recent call last):\n",
      "  File \"C:\\Users\\qiujv\\Downloads\\WaveMonitor\\src\\wave_monitor\\client.py\", line 83, in run\n",
      "    self._handle_write(payload[\"msg\"])  # fire-and-forget\n",
      "    ~~~~~~~~~~~~~~~~~~^^^^^^^^^^^^^^^^\n",
      "  File \"C:\\Users\\qiujv\\Downloads\\WaveMonitor\\src\\wave_monitor\\client.py\", line 183, in _handle_write\n",
      "    self._write_payload(payload)\n",
      "    ~~~~~~~~~~~~~~~~~~~^^^^^^^^^\n",
      "  File \"C:\\Users\\qiujv\\Downloads\\WaveMonitor\\src\\wave_monitor\\client.py\", line 154, in _write_payload\n",
      "    raise RuntimeError(\"Failed to write to socket.\")\n",
      "RuntimeError: Failed to write to socket.\n",
      "IO worker op failed: write\n",
      "Traceback (most recent call last):\n",
      "  File \"C:\\Users\\qiujv\\Downloads\\WaveMonitor\\src\\wave_monitor\\client.py\", line 83, in run\n",
      "    self._handle_write(payload[\"msg\"])  # fire-and-forget\n",
      "    ~~~~~~~~~~~~~~~~~~^^^^^^^^^^^^^^^^\n",
      "  File \"C:\\Users\\qiujv\\Downloads\\WaveMonitor\\src\\wave_monitor\\client.py\", line 183, in _handle_write\n",
      "    self._write_payload(payload)\n",
      "    ~~~~~~~~~~~~~~~~~~~^^^^^^^^^\n",
      "  File \"C:\\Users\\qiujv\\Downloads\\WaveMonitor\\src\\wave_monitor\\client.py\", line 154, in _write_payload\n",
      "    raise RuntimeError(\"Failed to write to socket.\")\n",
      "RuntimeError: Failed to write to socket.\n",
      "IO worker op failed: write\n",
      "Traceback (most recent call last):\n",
      "  File \"C:\\Users\\qiujv\\Downloads\\WaveMonitor\\src\\wave_monitor\\client.py\", line 83, in run\n",
      "    self._handle_write(payload[\"msg\"])  # fire-and-forget\n",
      "    ~~~~~~~~~~~~~~~~~~^^^^^^^^^^^^^^^^\n",
      "  File \"C:\\Users\\qiujv\\Downloads\\WaveMonitor\\src\\wave_monitor\\client.py\", line 183, in _handle_write\n",
      "    self._write_payload(payload)\n",
      "    ~~~~~~~~~~~~~~~~~~~^^^^^^^^^\n",
      "  File \"C:\\Users\\qiujv\\Downloads\\WaveMonitor\\src\\wave_monitor\\client.py\", line 154, in _write_payload\n",
      "    raise RuntimeError(\"Failed to write to socket.\")\n",
      "RuntimeError: Failed to write to socket.\n",
      "IO worker op failed: write\n",
      "Traceback (most recent call last):\n",
      "  File \"C:\\Users\\qiujv\\Downloads\\WaveMonitor\\src\\wave_monitor\\client.py\", line 83, in run\n",
      "    self._handle_write(payload[\"msg\"])  # fire-and-forget\n",
      "    ~~~~~~~~~~~~~~~~~~^^^^^^^^^^^^^^^^\n",
      "  File \"C:\\Users\\qiujv\\Downloads\\WaveMonitor\\src\\wave_monitor\\client.py\", line 183, in _handle_write\n",
      "    self._write_payload(payload)\n",
      "    ~~~~~~~~~~~~~~~~~~~^^^^^^^^^\n",
      "  File \"C:\\Users\\qiujv\\Downloads\\WaveMonitor\\src\\wave_monitor\\client.py\", line 154, in _write_payload\n",
      "    raise RuntimeError(\"Failed to write to socket.\")\n",
      "RuntimeError: Failed to write to socket.\n"
     ]
    }
   ],
   "source": [
    "%timeit -n 3 -r 5 monitor.add_wfm(\"wave_1\", t, [i_wave, q_wave])"
   ]
  },
  {
   "cell_type": "code",
   "execution_count": null,
   "id": "a1e610a6",
   "metadata": {},
   "outputs": [
    {
     "name": "stdout",
     "output_type": "stream",
     "text": [
      "Total Entries: 123                                                              \n",
      "Use the following command to open the report:\n",
      "\u001b[92mvizviewer c:\\Users\\qiujv\\dev\\WaveMonitor\\notebooks\\result.json\u001b[0m\n"
     ]
    }
   ],
   "source": [
    "from viztracer import VizTracer\n",
    "with VizTracer(output_file=\"result.json\") as tracer:\n",
    "    monitor.add_wfm(\"wave_1\", t, [i_wave, q_wave], dtype=np.float16)"
   ]
  },
  {
   "cell_type": "code",
   "execution_count": null,
   "id": "2dfc2140",
   "metadata": {},
   "outputs": [
    {
     "name": "stdout",
     "output_type": "stream",
     "text": [
      "35.1 ms ± 2.15 ms per loop (mean ± std. dev. of 7 runs, 10 loops each)\n"
     ]
    }
   ],
   "source": [
    "# close the window now.\n",
    "%timeit -n 3 -r 5 monitor.add_wfm(\"wave_1\", t, [i_wave, q_wave])"
   ]
  },
  {
   "cell_type": "code",
   "execution_count": null,
   "id": "713e5b74",
   "metadata": {},
   "outputs": [
    {
     "data": {
      "text/plain": [
       "True"
      ]
     },
     "execution_count": 11,
     "metadata": {},
     "output_type": "execute_result"
    }
   ],
   "source": [
    "monitor.refresh_connect()"
   ]
  },
  {
   "cell_type": "code",
   "execution_count": null,
   "id": "42ea2289",
   "metadata": {},
   "outputs": [
    {
     "data": {
      "text/plain": [
       "<LocalSocketState.ConnectedState: 3>"
      ]
     },
     "execution_count": 12,
     "metadata": {},
     "output_type": "execute_result"
    }
   ],
   "source": [
    "monitor.sock.state()"
   ]
  }
 ],
 "metadata": {
  "kernelspec": {
   "display_name": "wavemonitor",
   "language": "python",
   "name": "python3"
  },
  "language_info": {
   "codemirror_mode": {
    "name": "ipython",
    "version": 3
   },
   "file_extension": ".py",
   "mimetype": "text/x-python",
   "name": "python",
   "nbconvert_exporter": "python",
   "pygments_lexer": "ipython3",
   "version": "3.13.5"
  }
 },
 "nbformat": 4,
 "nbformat_minor": 5
}
